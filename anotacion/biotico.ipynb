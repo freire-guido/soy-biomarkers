{
 "cells": [
  {
   "cell_type": "code",
   "execution_count": 2,
   "metadata": {},
   "outputs": [],
   "source": [
    "import pandas as pd"
   ]
  },
  {
   "cell_type": "code",
   "execution_count": 4,
   "metadata": {},
   "outputs": [
    {
     "data": {
      "text/html": [
       "<div>\n",
       "<style scoped>\n",
       "    .dataframe tbody tr th:only-of-type {\n",
       "        vertical-align: middle;\n",
       "    }\n",
       "\n",
       "    .dataframe tbody tr th {\n",
       "        vertical-align: top;\n",
       "    }\n",
       "\n",
       "    .dataframe thead th {\n",
       "        text-align: right;\n",
       "    }\n",
       "</style>\n",
       "<table border=\"1\" class=\"dataframe\">\n",
       "  <thead>\n",
       "    <tr style=\"text-align: right;\">\n",
       "      <th></th>\n",
       "      <th>biosample</th>\n",
       "      <th>bioproject</th>\n",
       "      <th>tejido</th>\n",
       "      <th>estres</th>\n",
       "      <th>tratamiento</th>\n",
       "    </tr>\n",
       "  </thead>\n",
       "  <tbody>\n",
       "    <tr>\n",
       "      <th>0</th>\n",
       "      <td>SAMD00235524</td>\n",
       "      <td>PRJDB10183</td>\n",
       "      <td>seedling</td>\n",
       "      <td>control</td>\n",
       "      <td>control</td>\n",
       "    </tr>\n",
       "    <tr>\n",
       "      <th>1</th>\n",
       "      <td>SAMD00235525</td>\n",
       "      <td>PRJDB10183</td>\n",
       "      <td>seedling</td>\n",
       "      <td>control</td>\n",
       "      <td>control</td>\n",
       "    </tr>\n",
       "    <tr>\n",
       "      <th>2</th>\n",
       "      <td>SAMD00235526</td>\n",
       "      <td>PRJDB10183</td>\n",
       "      <td>seedling</td>\n",
       "      <td>control</td>\n",
       "      <td>control</td>\n",
       "    </tr>\n",
       "    <tr>\n",
       "      <th>3</th>\n",
       "      <td>SAMD00235527</td>\n",
       "      <td>PRJDB10183</td>\n",
       "      <td>seedling</td>\n",
       "      <td>control</td>\n",
       "      <td>control</td>\n",
       "    </tr>\n",
       "    <tr>\n",
       "      <th>4</th>\n",
       "      <td>SAMD00235528</td>\n",
       "      <td>PRJDB10183</td>\n",
       "      <td>seedling</td>\n",
       "      <td>control</td>\n",
       "      <td>control</td>\n",
       "    </tr>\n",
       "    <tr>\n",
       "      <th>...</th>\n",
       "      <td>...</td>\n",
       "      <td>...</td>\n",
       "      <td>...</td>\n",
       "      <td>...</td>\n",
       "      <td>...</td>\n",
       "    </tr>\n",
       "    <tr>\n",
       "      <th>10972</th>\n",
       "      <td>SAMN36760719</td>\n",
       "      <td>PRJNA999924</td>\n",
       "      <td>seed</td>\n",
       "      <td>cold</td>\n",
       "      <td>treatment</td>\n",
       "    </tr>\n",
       "    <tr>\n",
       "      <th>10973</th>\n",
       "      <td>SAMN36760720</td>\n",
       "      <td>PRJNA999924</td>\n",
       "      <td>seed</td>\n",
       "      <td>cold</td>\n",
       "      <td>treatment</td>\n",
       "    </tr>\n",
       "    <tr>\n",
       "      <th>10974</th>\n",
       "      <td>SAMN36760721</td>\n",
       "      <td>PRJNA999924</td>\n",
       "      <td>seed</td>\n",
       "      <td>cold</td>\n",
       "      <td>treatment</td>\n",
       "    </tr>\n",
       "    <tr>\n",
       "      <th>10975</th>\n",
       "      <td>SAMN36760722</td>\n",
       "      <td>PRJNA999924</td>\n",
       "      <td>seed</td>\n",
       "      <td>cold</td>\n",
       "      <td>treatment</td>\n",
       "    </tr>\n",
       "    <tr>\n",
       "      <th>10976</th>\n",
       "      <td>SAMN36760723</td>\n",
       "      <td>PRJNA999924</td>\n",
       "      <td>seed</td>\n",
       "      <td>cold</td>\n",
       "      <td>treatment</td>\n",
       "    </tr>\n",
       "  </tbody>\n",
       "</table>\n",
       "<p>10977 rows × 5 columns</p>\n",
       "</div>"
      ],
      "text/plain": [
       "          biosample   bioproject    tejido   estres tratamiento\n",
       "0      SAMD00235524   PRJDB10183  seedling  control     control\n",
       "1      SAMD00235525   PRJDB10183  seedling  control     control\n",
       "2      SAMD00235526   PRJDB10183  seedling  control     control\n",
       "3      SAMD00235527   PRJDB10183  seedling  control     control\n",
       "4      SAMD00235528   PRJDB10183  seedling  control     control\n",
       "...             ...          ...       ...      ...         ...\n",
       "10972  SAMN36760719  PRJNA999924      seed     cold   treatment\n",
       "10973  SAMN36760720  PRJNA999924      seed     cold   treatment\n",
       "10974  SAMN36760721  PRJNA999924      seed     cold   treatment\n",
       "10975  SAMN36760722  PRJNA999924      seed     cold   treatment\n",
       "10976  SAMN36760723  PRJNA999924      seed     cold   treatment\n",
       "\n",
       "[10977 rows x 5 columns]"
      ]
     },
     "execution_count": 4,
     "metadata": {},
     "output_type": "execute_result"
    }
   ],
   "source": [
    "annot = pd.read_csv('gemini_annot.csv')\n",
    "annot"
   ]
  },
  {
   "cell_type": "code",
   "execution_count": 5,
   "metadata": {},
   "outputs": [
    {
     "data": {
      "text/plain": [
       "array(['control', 'fungus', nan, 'drought', 'transgenic', 'heat',\n",
       "       'bacteria', 'other', 'mineral', 'virus', 'nutrient', 'acid',\n",
       "       'parasite', 'cold', 'senescense', 'flood', 'sporus'], dtype=object)"
      ]
     },
     "execution_count": 5,
     "metadata": {},
     "output_type": "execute_result"
    }
   ],
   "source": [
    "annot['estres'].unique()"
   ]
  },
  {
   "cell_type": "code",
   "execution_count": 9,
   "metadata": {},
   "outputs": [],
   "source": [
    "annot.loc[annot['estres'] == 'fungus', 'biotico'] = 'biotic'\n",
    "annot.loc[annot['estres'] == 'bacteria', 'biotico'] = 'biotic'\n",
    "annot.loc[annot['estres'] == 'virus', 'biotico'] = 'biotic'\n",
    "annot.loc[annot['estres'] == 'parasite', 'biotico'] = 'biotic'\n",
    "annot.loc[annot['estres'] == 'sporus', 'biotico'] = 'biotic'\n",
    "\n",
    "annot.loc[annot['estres'] == 'drought', 'biotico'] = 'abiotic'\n",
    "annot.loc[annot['estres'] == 'transgenic', 'biotico'] = 'abiotic'\n",
    "annot.loc[annot['estres'] == 'heat', 'biotico'] = 'abiotic'\n",
    "annot.loc[annot['estres'] == 'mineral', 'biotico'] = 'abiotic'\n",
    "annot.loc[annot['estres'] == 'nutrient', 'biotico'] = 'abiotic'\n",
    "annot.loc[annot['estres'] == 'acid', 'biotico'] = 'abiotic'\n",
    "annot.loc[annot['estres'] == 'cold', 'biotico'] = 'abiotic'\n",
    "annot.loc[annot['estres'] == 'flood', 'biotico'] = 'abiotic'\n",
    "\n",
    "annot.loc[annot['estres'] == 'control', 'biotico'] = 'control'"
   ]
  },
  {
   "cell_type": "code",
   "execution_count": 10,
   "metadata": {},
   "outputs": [
    {
     "data": {
      "text/plain": [
       "biotico\n",
       "control    4814\n",
       "abiotic    2441\n",
       "biotic     1415\n",
       "Name: count, dtype: int64"
      ]
     },
     "execution_count": 10,
     "metadata": {},
     "output_type": "execute_result"
    }
   ],
   "source": [
    "annot['biotico'].value_counts()"
   ]
  },
  {
   "cell_type": "code",
   "execution_count": 12,
   "metadata": {},
   "outputs": [],
   "source": [
    "annot.to_csv('biotico.csv', index=False)"
   ]
  }
 ],
 "metadata": {
  "kernelspec": {
   "display_name": "Python 3",
   "language": "python",
   "name": "python3"
  },
  "language_info": {
   "codemirror_mode": {
    "name": "ipython",
    "version": 3
   },
   "file_extension": ".py",
   "mimetype": "text/x-python",
   "name": "python",
   "nbconvert_exporter": "python",
   "pygments_lexer": "ipython3",
   "version": "3.10.12"
  }
 },
 "nbformat": 4,
 "nbformat_minor": 2
}
