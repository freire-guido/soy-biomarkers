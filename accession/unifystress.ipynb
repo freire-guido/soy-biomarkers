{
 "cells": [
  {
   "cell_type": "code",
   "execution_count": 1,
   "metadata": {},
   "outputs": [],
   "source": [
    "import pandas as pd"
   ]
  },
  {
   "cell_type": "code",
   "execution_count": 2,
   "metadata": {},
   "outputs": [
    {
     "name": "stderr",
     "output_type": "stream",
     "text": [
      "/tmp/ipykernel_34280/2503227504.py:1: DtypeWarning: Columns (26,61,62,87,88,98,99,104,105,111,113,127,132,133,139,142,143,145,146,152,153,154,155,156,157,158,159,160,161,162,163,165,166,167,169,170,171,173,178,179,180,186,188,190,191,192,193,194,195,196,201,202,203,204,205,206,207,208,211,212,213,214,215,216,217,219,220,221,222,223,224,225,226,227,228,229,230,231,232) have mixed types. Specify dtype option on import or set low_memory=False.\n",
      "  attr = pd.read_csv('attr.csv')\n",
      "/tmp/ipykernel_34280/2503227504.py:4: DtypeWarning: Columns (62,84,86,87,88,91,92) have mixed types. Specify dtype option on import or set low_memory=False.\n",
      "  jmeta = pd.read_csv('jmeta.csv')\n"
     ]
    }
   ],
   "source": [
    "attr = pd.read_csv('attr.csv')\n",
    "acc = pd.read_csv('acc.csv')\n",
    "biosamp = pd.read_csv('biosamp.csv')\n",
    "jmeta = pd.read_csv('jmeta.csv')"
   ]
  },
  {
   "cell_type": "code",
   "execution_count": 3,
   "metadata": {},
   "outputs": [
    {
     "data": {
      "text/html": [
       "<div>\n",
       "<style scoped>\n",
       "    .dataframe tbody tr th:only-of-type {\n",
       "        vertical-align: middle;\n",
       "    }\n",
       "\n",
       "    .dataframe tbody tr th {\n",
       "        vertical-align: top;\n",
       "    }\n",
       "\n",
       "    .dataframe thead th {\n",
       "        text-align: right;\n",
       "    }\n",
       "</style>\n",
       "<table border=\"1\" class=\"dataframe\">\n",
       "  <thead>\n",
       "    <tr style=\"text-align: right;\">\n",
       "      <th></th>\n",
       "      <th>Unnamed: 0</th>\n",
       "      <th>biosample</th>\n",
       "      <th>metadata</th>\n",
       "    </tr>\n",
       "  </thead>\n",
       "  <tbody>\n",
       "    <tr>\n",
       "      <th>0</th>\n",
       "      <td>0</td>\n",
       "      <td>SAMD00235537</td>\n",
       "      <td>1: Oryza sativa Japonica Group NG8334\\nIdentif...</td>\n",
       "    </tr>\n",
       "    <tr>\n",
       "      <th>1</th>\n",
       "      <td>5</td>\n",
       "      <td>SAMN30889879</td>\n",
       "      <td>1: Plant sample from Glycine max\\nIdentifiers:...</td>\n",
       "    </tr>\n",
       "    <tr>\n",
       "      <th>2</th>\n",
       "      <td>12</td>\n",
       "      <td>SAMN09513405</td>\n",
       "      <td>1: Plant sample from Glycine max\\nIdentifiers:...</td>\n",
       "    </tr>\n",
       "    <tr>\n",
       "      <th>3</th>\n",
       "      <td>15</td>\n",
       "      <td>SAMN09078292</td>\n",
       "      <td>1: mRNA gmax PI641156 NC-Raleigh\\nIdentifiers:...</td>\n",
       "    </tr>\n",
       "    <tr>\n",
       "      <th>4</th>\n",
       "      <td>18</td>\n",
       "      <td>SAMN36760700</td>\n",
       "      <td>1: Plant sample from Glycine max\\nIdentifiers:...</td>\n",
       "    </tr>\n",
       "    <tr>\n",
       "      <th>...</th>\n",
       "      <td>...</td>\n",
       "      <td>...</td>\n",
       "      <td>...</td>\n",
       "    </tr>\n",
       "    <tr>\n",
       "      <th>13050</th>\n",
       "      <td>33386</td>\n",
       "      <td>SAMN21359677</td>\n",
       "      <td>1: Leaf tissue, PI 578366 (G3), sufficient iro...</td>\n",
       "    </tr>\n",
       "    <tr>\n",
       "      <th>13051</th>\n",
       "      <td>33387</td>\n",
       "      <td>SAMN20971793</td>\n",
       "      <td>1: Mock-inoculated Williams rep 2 [WM-2a]\\nIde...</td>\n",
       "    </tr>\n",
       "    <tr>\n",
       "      <th>13052</th>\n",
       "      <td>33389</td>\n",
       "      <td>SAMN41726398</td>\n",
       "      <td>1: Plant sample from Glycine max\\nIdentifiers:...</td>\n",
       "    </tr>\n",
       "    <tr>\n",
       "      <th>13053</th>\n",
       "      <td>33391</td>\n",
       "      <td>SAMN07202264</td>\n",
       "      <td>1: LG92-1255_RNA-seq\\nIdentifiers: BioSample: ...</td>\n",
       "    </tr>\n",
       "    <tr>\n",
       "      <th>13054</th>\n",
       "      <td>33394</td>\n",
       "      <td>SAMN09716352</td>\n",
       "      <td>1: YH03_3D4\\nIdentifiers: BioSample: SAMN09716...</td>\n",
       "    </tr>\n",
       "  </tbody>\n",
       "</table>\n",
       "<p>13055 rows × 3 columns</p>\n",
       "</div>"
      ],
      "text/plain": [
       "       Unnamed: 0     biosample  \\\n",
       "0               0  SAMD00235537   \n",
       "1               5  SAMN30889879   \n",
       "2              12  SAMN09513405   \n",
       "3              15  SAMN09078292   \n",
       "4              18  SAMN36760700   \n",
       "...           ...           ...   \n",
       "13050       33386  SAMN21359677   \n",
       "13051       33387  SAMN20971793   \n",
       "13052       33389  SAMN41726398   \n",
       "13053       33391  SAMN07202264   \n",
       "13054       33394  SAMN09716352   \n",
       "\n",
       "                                                metadata  \n",
       "0      1: Oryza sativa Japonica Group NG8334\\nIdentif...  \n",
       "1      1: Plant sample from Glycine max\\nIdentifiers:...  \n",
       "2      1: Plant sample from Glycine max\\nIdentifiers:...  \n",
       "3      1: mRNA gmax PI641156 NC-Raleigh\\nIdentifiers:...  \n",
       "4      1: Plant sample from Glycine max\\nIdentifiers:...  \n",
       "...                                                  ...  \n",
       "13050  1: Leaf tissue, PI 578366 (G3), sufficient iro...  \n",
       "13051  1: Mock-inoculated Williams rep 2 [WM-2a]\\nIde...  \n",
       "13052  1: Plant sample from Glycine max\\nIdentifiers:...  \n",
       "13053  1: LG92-1255_RNA-seq\\nIdentifiers: BioSample: ...  \n",
       "13054  1: YH03_3D4\\nIdentifiers: BioSample: SAMN09716...  \n",
       "\n",
       "[13055 rows x 3 columns]"
      ]
     },
     "execution_count": 3,
     "metadata": {},
     "output_type": "execute_result"
    }
   ],
   "source": [
    "biosamp"
   ]
  }
 ],
 "metadata": {
  "kernelspec": {
   "display_name": "Python 3",
   "language": "python",
   "name": "python3"
  },
  "language_info": {
   "codemirror_mode": {
    "name": "ipython",
    "version": 3
   },
   "file_extension": ".py",
   "mimetype": "text/x-python",
   "name": "python",
   "nbconvert_exporter": "python",
   "pygments_lexer": "ipython3",
   "version": "3.10.12"
  }
 },
 "nbformat": 4,
 "nbformat_minor": 2
}
