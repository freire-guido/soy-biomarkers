{
 "cells": [
  {
   "cell_type": "code",
   "execution_count": 1,
   "metadata": {},
   "outputs": [],
   "source": [
    "import pandas as pd\n",
    "import matplotlib.pyplot as plt\n",
    "import json"
   ]
  },
  {
   "cell_type": "markdown",
   "metadata": {},
   "source": [
    "# Joined"
   ]
  },
  {
   "cell_type": "code",
   "execution_count": 2,
   "metadata": {},
   "outputs": [
    {
     "name": "stderr",
     "output_type": "stream",
     "text": [
      "/tmp/ipykernel_15272/1891019688.py:1: DtypeWarning: Columns (28,29,30,49,51,54,55,56,57,59,60,61,62,63,65,66,67,71,72,73,74,75,76,78,79,80,81,82,83,84,85,87,88,89,91,92,93,94,96,98,99,100,102,103,104,106,107,108,109,110,111,112,113,114,115,116,117,118,119,120,121,122,123,124,125,126,127,128,129,130,131,132,133,135,136,137,138,139,140,141,142,144,145,146,147,148,149,150,151,152,153,154,155,156,157,158,159,160,162,163,164,166,167,168,169,170,171,172,173,174,175,176,177,179,180,182,183,186,187,188,189,190,191,192,193,194,195,196,197,198,199,200,201,202,203,204,205,206,207,208,209,210,212,213,214,215,216,217,218,219,220,221,222,223,224,225,226,227,228,229,230,231,232,233,234,235,236,238,239,240,241,242,243,244,245,246,247,248,249,250,251,252,253,254,255,256,257,258,259,260,261,262,263,264,265,266,267,268,269) have mixed types. Specify dtype option on import or set low_memory=False.\n",
      "  joined = pd.read_csv('joined.csv')\n"
     ]
    }
   ],
   "source": [
    "joined = pd.read_csv('joined.csv')"
   ]
  },
  {
   "cell_type": "code",
   "execution_count": 3,
   "metadata": {},
   "outputs": [
    {
     "data": {
      "text/plain": [
       "Text(0.5, 1.0, 'densidad de NAs por columna')"
      ]
     },
     "execution_count": 3,
     "metadata": {},
     "output_type": "execute_result"
    },
    {
     "data": {
      "image/png": "[encoded data removed]",
      "text/plain": [
       "<Figure size 640x480 with 1 Axes>"
      ]
     },
     "metadata": {},
     "output_type": "display_data"
    }
   ],
   "source": [
    "joined.isna().mean().plot.density()\n",
    "plt.xlim(0, 1)\n",
    "plt.title('densidad de NAs por columna')"
   ]
  },
  {
   "cell_type": "code",
   "execution_count": 4,
   "metadata": {},
   "outputs": [
    {
     "data": {
      "text/plain": [
       "jattr             0.023563\n",
       "attributes        0.023563\n",
       "primary_search    0.003548\n",
       "sample_name       0.003457\n",
       "librarysource          0.0\n",
       "                    ...   \n",
       "Identifiers            NaN\n",
       "Organism               NaN\n",
       "Attributes             NaN\n",
       "Accession              NaN\n",
       "ID                     NaN\n",
       "Length: 276, dtype: object"
      ]
     },
     "execution_count": 4,
     "metadata": {},
     "output_type": "execute_result"
    }
   ],
   "source": [
    "joined.apply(lambda col: col.str.contains('control'), axis=1).mean(skipna=False).sort_values(ascending=False)"
   ]
  },
  {
   "cell_type": "code",
   "execution_count": 5,
   "metadata": {},
   "outputs": [
    {
     "data": {
      "text/plain": [
       "array(['Internodes of soybean, sampling 1',\n",
       "       'Internodes of soybean, sampling 2',\n",
       "       'Internodes of soybean, sampling 3',\n",
       "       'Roots of soybean, sampling 1', 'Roots of soybean, sampling 2',\n",
       "       'Roots of soybean, sampling 3', 'Glycine max RNA-Seq', nan,\n",
       "       'thinning_20160916_rep1', 'control_20160916_rep1',\n",
       "       'thinning_20160916_rep2', 'control_20160916_rep2',\n",
       "       'thinning_20160930_rep1', 'control_20160930_rep1',\n",
       "       'thinning_20160930_rep2', 'control_20160930_rep2'], dtype=object)"
      ]
     },
     "execution_count": 5,
     "metadata": {},
     "output_type": "execute_result"
    }
   ],
   "source": [
    "joined.sample_title_sam.unique()"
   ]
  },
  {
   "cell_type": "code",
   "execution_count": 6,
   "metadata": {},
   "outputs": [
    {
     "data": {
      "text/plain": [
       "jattr             0.004003\n",
       "attributes        0.004003\n",
       "primary_search    0.000364\n",
       "sample_name       0.000364\n",
       "librarysource          0.0\n",
       "                    ...   \n",
       "Identifiers            NaN\n",
       "Organism               NaN\n",
       "Attributes             NaN\n",
       "Accession              NaN\n",
       "ID                     NaN\n",
       "Length: 276, dtype: object"
      ]
     },
     "execution_count": 6,
     "metadata": {},
     "output_type": "execute_result"
    }
   ],
   "source": [
    "joined.apply(lambda col: col.str.contains('drought'), axis=1).mean(skipna=False).sort_values(ascending=False)"
   ]
  },
  {
   "cell_type": "code",
   "execution_count": 7,
   "metadata": {},
   "outputs": [
    {
     "data": {
      "text/plain": [
       "array([nan, 'missing', 'LN', 'HN', 'LNLP', 'not applicable',\n",
       "       'not collected', 'field cultivation', 'plant',\n",
       "       'Mixture of SMV strains SC1 and SC3', 'not provided', 'leaf',\n",
       "       'drought', 'Well-watered', 'Palnt pathology, PDKV Akola'],\n",
       "      dtype=object)"
      ]
     },
     "execution_count": 7,
     "metadata": {},
     "output_type": "execute_result"
    }
   ],
   "source": [
    "joined['isolation_source_sam'].unique()"
   ]
  },
  {
   "cell_type": "markdown",
   "metadata": {},
   "source": [
    "Quiero hacer esto para toda columna, con palabras clave"
   ]
  },
  {
   "cell_type": "code",
   "execution_count": 8,
   "metadata": {},
   "outputs": [],
   "source": [
    "def cols_match(row, pat):\n",
    "    row\n",
    "    return row[row.astype(str).str.contains(pat, regex=False, case=False).fillna(False)].index.to_list()"
   ]
  },
  {
   "cell_type": "code",
   "execution_count": 9,
   "metadata": {},
   "outputs": [],
   "source": [
    "kws = ['control', 'stress', 'drought', 'bacteria', 'inoculated', 'flood', 'deficit', 'infest', 'pathogen', 'acid', 'fungal', 'sporus']\n"
   ]
  },
  {
   "cell_type": "code",
   "execution_count": 10,
   "metadata": {},
   "outputs": [],
   "source": [
    "stresses = pd.DataFrame(joined['biosample'])\n",
    "for kw in kws:\n",
    "    stresses[kw] = joined.apply(lambda row: cols_match(row, kw), axis=1)\n",
    "stresses = stresses.set_index('biosample')\n",
    "stresses.to_csv('stresses.csv')"
   ]
  },
  {
   "cell_type": "code",
   "execution_count": 11,
   "metadata": {},
   "outputs": [
    {
     "data": {
      "text/html": [
       "<div>\n",
       "<style scoped>\n",
       "    .dataframe tbody tr th:only-of-type {\n",
       "        vertical-align: middle;\n",
       "    }\n",
       "\n",
       "    .dataframe tbody tr th {\n",
       "        vertical-align: top;\n",
       "    }\n",
       "\n",
       "    .dataframe thead th {\n",
       "        text-align: right;\n",
       "    }\n",
       "</style>\n",
       "<table border=\"1\" class=\"dataframe\">\n",
       "  <thead>\n",
       "    <tr style=\"text-align: right;\">\n",
       "      <th></th>\n",
       "      <th>control</th>\n",
       "      <th>stress</th>\n",
       "      <th>drought</th>\n",
       "      <th>bacteria</th>\n",
       "      <th>inoculated</th>\n",
       "      <th>flood</th>\n",
       "      <th>deficit</th>\n",
       "      <th>infest</th>\n",
       "      <th>pathogen</th>\n",
       "      <th>acid</th>\n",
       "      <th>fungal</th>\n",
       "    </tr>\n",
       "    <tr>\n",
       "      <th>biosample</th>\n",
       "      <th></th>\n",
       "      <th></th>\n",
       "      <th></th>\n",
       "      <th></th>\n",
       "      <th></th>\n",
       "      <th></th>\n",
       "      <th></th>\n",
       "      <th></th>\n",
       "      <th></th>\n",
       "      <th></th>\n",
       "      <th></th>\n",
       "    </tr>\n",
       "  </thead>\n",
       "  <tbody>\n",
       "    <tr>\n",
       "      <th>SAMD00025071</th>\n",
       "      <td>0</td>\n",
       "      <td>0</td>\n",
       "      <td>0</td>\n",
       "      <td>0</td>\n",
       "      <td>0</td>\n",
       "      <td>0</td>\n",
       "      <td>0</td>\n",
       "      <td>0</td>\n",
       "      <td>0</td>\n",
       "      <td>0</td>\n",
       "      <td>0</td>\n",
       "    </tr>\n",
       "    <tr>\n",
       "      <th>SAMD00025072</th>\n",
       "      <td>0</td>\n",
       "      <td>0</td>\n",
       "      <td>0</td>\n",
       "      <td>0</td>\n",
       "      <td>0</td>\n",
       "      <td>0</td>\n",
       "      <td>0</td>\n",
       "      <td>0</td>\n",
       "      <td>0</td>\n",
       "      <td>0</td>\n",
       "      <td>0</td>\n",
       "    </tr>\n",
       "    <tr>\n",
       "      <th>SAMD00025073</th>\n",
       "      <td>0</td>\n",
       "      <td>0</td>\n",
       "      <td>0</td>\n",
       "      <td>0</td>\n",
       "      <td>0</td>\n",
       "      <td>0</td>\n",
       "      <td>0</td>\n",
       "      <td>0</td>\n",
       "      <td>0</td>\n",
       "      <td>0</td>\n",
       "      <td>0</td>\n",
       "    </tr>\n",
       "    <tr>\n",
       "      <th>SAMD00025074</th>\n",
       "      <td>0</td>\n",
       "      <td>0</td>\n",
       "      <td>0</td>\n",
       "      <td>0</td>\n",
       "      <td>0</td>\n",
       "      <td>0</td>\n",
       "      <td>0</td>\n",
       "      <td>0</td>\n",
       "      <td>0</td>\n",
       "      <td>0</td>\n",
       "      <td>0</td>\n",
       "    </tr>\n",
       "    <tr>\n",
       "      <th>SAMD00025075</th>\n",
       "      <td>0</td>\n",
       "      <td>0</td>\n",
       "      <td>0</td>\n",
       "      <td>0</td>\n",
       "      <td>0</td>\n",
       "      <td>0</td>\n",
       "      <td>0</td>\n",
       "      <td>0</td>\n",
       "      <td>0</td>\n",
       "      <td>0</td>\n",
       "      <td>0</td>\n",
       "    </tr>\n",
       "    <tr>\n",
       "      <th>...</th>\n",
       "      <td>...</td>\n",
       "      <td>...</td>\n",
       "      <td>...</td>\n",
       "      <td>...</td>\n",
       "      <td>...</td>\n",
       "      <td>...</td>\n",
       "      <td>...</td>\n",
       "      <td>...</td>\n",
       "      <td>...</td>\n",
       "      <td>...</td>\n",
       "      <td>...</td>\n",
       "    </tr>\n",
       "    <tr>\n",
       "      <th>SAMN41829221</th>\n",
       "      <td>0</td>\n",
       "      <td>0</td>\n",
       "      <td>0</td>\n",
       "      <td>0</td>\n",
       "      <td>0</td>\n",
       "      <td>0</td>\n",
       "      <td>0</td>\n",
       "      <td>0</td>\n",
       "      <td>0</td>\n",
       "      <td>0</td>\n",
       "      <td>0</td>\n",
       "    </tr>\n",
       "    <tr>\n",
       "      <th>SAMN41829222</th>\n",
       "      <td>0</td>\n",
       "      <td>0</td>\n",
       "      <td>0</td>\n",
       "      <td>0</td>\n",
       "      <td>0</td>\n",
       "      <td>0</td>\n",
       "      <td>0</td>\n",
       "      <td>0</td>\n",
       "      <td>0</td>\n",
       "      <td>0</td>\n",
       "      <td>0</td>\n",
       "    </tr>\n",
       "    <tr>\n",
       "      <th>SAMN41829223</th>\n",
       "      <td>0</td>\n",
       "      <td>0</td>\n",
       "      <td>0</td>\n",
       "      <td>0</td>\n",
       "      <td>0</td>\n",
       "      <td>0</td>\n",
       "      <td>0</td>\n",
       "      <td>0</td>\n",
       "      <td>0</td>\n",
       "      <td>0</td>\n",
       "      <td>0</td>\n",
       "    </tr>\n",
       "    <tr>\n",
       "      <th>SAMN41829224</th>\n",
       "      <td>0</td>\n",
       "      <td>0</td>\n",
       "      <td>0</td>\n",
       "      <td>0</td>\n",
       "      <td>0</td>\n",
       "      <td>0</td>\n",
       "      <td>0</td>\n",
       "      <td>0</td>\n",
       "      <td>0</td>\n",
       "      <td>0</td>\n",
       "      <td>0</td>\n",
       "    </tr>\n",
       "    <tr>\n",
       "      <th>SAMN41829225</th>\n",
       "      <td>0</td>\n",
       "      <td>0</td>\n",
       "      <td>0</td>\n",
       "      <td>0</td>\n",
       "      <td>0</td>\n",
       "      <td>0</td>\n",
       "      <td>0</td>\n",
       "      <td>0</td>\n",
       "      <td>0</td>\n",
       "      <td>0</td>\n",
       "      <td>0</td>\n",
       "    </tr>\n",
       "  </tbody>\n",
       "</table>\n",
       "<p>10992 rows × 11 columns</p>\n",
       "</div>"
      ],
      "text/plain": [
       "              control  stress  drought  bacteria  inoculated  flood  deficit  \\\n",
       "biosample                                                                      \n",
       "SAMD00025071        0       0        0         0           0      0        0   \n",
       "SAMD00025072        0       0        0         0           0      0        0   \n",
       "SAMD00025073        0       0        0         0           0      0        0   \n",
       "SAMD00025074        0       0        0         0           0      0        0   \n",
       "SAMD00025075        0       0        0         0           0      0        0   \n",
       "...               ...     ...      ...       ...         ...    ...      ...   \n",
       "SAMN41829221        0       0        0         0           0      0        0   \n",
       "SAMN41829222        0       0        0         0           0      0        0   \n",
       "SAMN41829223        0       0        0         0           0      0        0   \n",
       "SAMN41829224        0       0        0         0           0      0        0   \n",
       "SAMN41829225        0       0        0         0           0      0        0   \n",
       "\n",
       "              infest  pathogen  acid  fungal  \n",
       "biosample                                     \n",
       "SAMD00025071       0         0     0       0  \n",
       "SAMD00025072       0         0     0       0  \n",
       "SAMD00025073       0         0     0       0  \n",
       "SAMD00025074       0         0     0       0  \n",
       "SAMD00025075       0         0     0       0  \n",
       "...              ...       ...   ...     ...  \n",
       "SAMN41829221       0         0     0       0  \n",
       "SAMN41829222       0         0     0       0  \n",
       "SAMN41829223       0         0     0       0  \n",
       "SAMN41829224       0         0     0       0  \n",
       "SAMN41829225       0         0     0       0  \n",
       "\n",
       "[10992 rows x 11 columns]"
      ]
     },
     "execution_count": 11,
     "metadata": {},
     "output_type": "execute_result"
    }
   ],
   "source": [
    "stresses_len = stresses.map(len)\n",
    "stresses_len"
   ]
  },
  {
   "cell_type": "code",
   "execution_count": 12,
   "metadata": {},
   "outputs": [
    {
     "data": {
      "text/plain": [
       "control       441\n",
       "stress        485\n",
       "drought        84\n",
       "bacteria        0\n",
       "inoculated    339\n",
       "flood           0\n",
       "deficit       135\n",
       "infest        141\n",
       "pathogen        3\n",
       "acid           79\n",
       "fungal         12\n",
       "dtype: int64"
      ]
     },
     "execution_count": 12,
     "metadata": {},
     "output_type": "execute_result"
    }
   ],
   "source": [
    "stresses_len.where(stresses_len == 0).isna().sum()"
   ]
  },
  {
   "cell_type": "markdown",
   "metadata": {},
   "source": [
    "# Guido / Maxi"
   ]
  },
  {
   "cell_type": "code",
   "execution_count": 13,
   "metadata": {},
   "outputs": [
    {
     "data": {
      "text/plain": [
       "con       409\n",
       "stress    453\n",
       "dtype: int64"
      ]
     },
     "execution_count": 13,
     "metadata": {},
     "output_type": "execute_result"
    }
   ],
   "source": [
    "stress_guido = pd.DataFrame({\n",
    "    'con': (stresses_len['control'] != 0) & (stresses_len['stress'] == 0),\n",
    "    'stress': (stresses_len['stress'] != 0) & (stresses_len['control'] == 0)\n",
    "}, index=stresses_len.index)\n",
    "stress_guido.sum()"
   ]
  },
  {
   "cell_type": "code",
   "execution_count": 14,
   "metadata": {},
   "outputs": [
    {
     "name": "stderr",
     "output_type": "stream",
     "text": [
      "/tmp/ipykernel_97361/2688413663.py:1: FutureWarning: Setting an item of incompatible dtype is deprecated and will raise an error in a future version of pandas. Value 'nan' has dtype incompatible with bool, please explicitly cast to a compatible dtype first.\n",
      "  stress_guido.loc[~(stress_guido['con'] | stress_guido['stress'])] = pd.NA\n"
     ]
    }
   ],
   "source": [
    "stress_guido.loc[~(stress_guido['con'] | stress_guido['stress'])] = pd.NA"
   ]
  },
  {
   "cell_type": "code",
   "execution_count": 15,
   "metadata": {},
   "outputs": [],
   "source": [
    "stress_maxi = pd.read_csv('stress_control_maxi.csv')\n",
    "stress_maxi.loc[stress_maxi['Control/Treated'] == 'con', 'Control/Treated'] = True\n",
    "stress_maxi.loc[stress_maxi['Control/Treated'] == 'stress', 'Control/Treated'] = False"
   ]
  },
  {
   "cell_type": "code",
   "execution_count": 16,
   "metadata": {},
   "outputs": [
    {
     "data": {
      "text/html": [
       "<div>\n",
       "<style scoped>\n",
       "    .dataframe tbody tr th:only-of-type {\n",
       "        vertical-align: middle;\n",
       "    }\n",
       "\n",
       "    .dataframe tbody tr th {\n",
       "        vertical-align: top;\n",
       "    }\n",
       "\n",
       "    .dataframe thead th {\n",
       "        text-align: right;\n",
       "    }\n",
       "</style>\n",
       "<table border=\"1\" class=\"dataframe\">\n",
       "  <thead>\n",
       "    <tr style=\"text-align: right;\">\n",
       "      <th></th>\n",
       "      <th>con</th>\n",
       "      <th>biosample</th>\n",
       "    </tr>\n",
       "  </thead>\n",
       "  <tbody>\n",
       "    <tr>\n",
       "      <th>0</th>\n",
       "      <td>True</td>\n",
       "      <td>SAMN31521702</td>\n",
       "    </tr>\n",
       "    <tr>\n",
       "      <th>1</th>\n",
       "      <td>True</td>\n",
       "      <td>SAMN31521701</td>\n",
       "    </tr>\n",
       "    <tr>\n",
       "      <th>2</th>\n",
       "      <td>True</td>\n",
       "      <td>SAMN31521700</td>\n",
       "    </tr>\n",
       "    <tr>\n",
       "      <th>3</th>\n",
       "      <td>True</td>\n",
       "      <td>SAMN31521699</td>\n",
       "    </tr>\n",
       "    <tr>\n",
       "      <th>4</th>\n",
       "      <td>True</td>\n",
       "      <td>SAMN31521748</td>\n",
       "    </tr>\n",
       "    <tr>\n",
       "      <th>...</th>\n",
       "      <td>...</td>\n",
       "      <td>...</td>\n",
       "    </tr>\n",
       "    <tr>\n",
       "      <th>12851</th>\n",
       "      <td>NaN</td>\n",
       "      <td>SAMN41088855</td>\n",
       "    </tr>\n",
       "    <tr>\n",
       "      <th>12852</th>\n",
       "      <td>NaN</td>\n",
       "      <td>SAMN41088854</td>\n",
       "    </tr>\n",
       "    <tr>\n",
       "      <th>12853</th>\n",
       "      <td>NaN</td>\n",
       "      <td>SAMN41088853</td>\n",
       "    </tr>\n",
       "    <tr>\n",
       "      <th>12854</th>\n",
       "      <td>NaN</td>\n",
       "      <td>SAMN41088852</td>\n",
       "    </tr>\n",
       "    <tr>\n",
       "      <th>12855</th>\n",
       "      <td>NaN</td>\n",
       "      <td>SAMN41088851</td>\n",
       "    </tr>\n",
       "  </tbody>\n",
       "</table>\n",
       "<p>12856 rows × 2 columns</p>\n",
       "</div>"
      ],
      "text/plain": [
       "        con     biosample\n",
       "0      True  SAMN31521702\n",
       "1      True  SAMN31521701\n",
       "2      True  SAMN31521700\n",
       "3      True  SAMN31521699\n",
       "4      True  SAMN31521748\n",
       "...     ...           ...\n",
       "12851   NaN  SAMN41088855\n",
       "12852   NaN  SAMN41088854\n",
       "12853   NaN  SAMN41088853\n",
       "12854   NaN  SAMN41088852\n",
       "12855   NaN  SAMN41088851\n",
       "\n",
       "[12856 rows x 2 columns]"
      ]
     },
     "execution_count": 16,
     "metadata": {},
     "output_type": "execute_result"
    }
   ],
   "source": [
    "stress_maxi.columns = ['con', 'biosample']\n",
    "stress_maxi"
   ]
  },
  {
   "cell_type": "code",
   "execution_count": 17,
   "metadata": {},
   "outputs": [
    {
     "data": {
      "text/html": [
       "<div>\n",
       "<style scoped>\n",
       "    .dataframe tbody tr th:only-of-type {\n",
       "        vertical-align: middle;\n",
       "    }\n",
       "\n",
       "    .dataframe tbody tr th {\n",
       "        vertical-align: top;\n",
       "    }\n",
       "\n",
       "    .dataframe thead th {\n",
       "        text-align: right;\n",
       "    }\n",
       "</style>\n",
       "<table border=\"1\" class=\"dataframe\">\n",
       "  <thead>\n",
       "    <tr style=\"text-align: right;\">\n",
       "      <th></th>\n",
       "      <th>con</th>\n",
       "    </tr>\n",
       "    <tr>\n",
       "      <th>biosample</th>\n",
       "      <th></th>\n",
       "    </tr>\n",
       "  </thead>\n",
       "  <tbody>\n",
       "    <tr>\n",
       "      <th>SAMN31521702</th>\n",
       "      <td>True</td>\n",
       "    </tr>\n",
       "    <tr>\n",
       "      <th>SAMN31521701</th>\n",
       "      <td>True</td>\n",
       "    </tr>\n",
       "    <tr>\n",
       "      <th>SAMN31521700</th>\n",
       "      <td>True</td>\n",
       "    </tr>\n",
       "    <tr>\n",
       "      <th>SAMN31521699</th>\n",
       "      <td>True</td>\n",
       "    </tr>\n",
       "    <tr>\n",
       "      <th>SAMN31521748</th>\n",
       "      <td>True</td>\n",
       "    </tr>\n",
       "    <tr>\n",
       "      <th>...</th>\n",
       "      <td>...</td>\n",
       "    </tr>\n",
       "    <tr>\n",
       "      <th>SAMN41088855</th>\n",
       "      <td>NaN</td>\n",
       "    </tr>\n",
       "    <tr>\n",
       "      <th>SAMN41088854</th>\n",
       "      <td>NaN</td>\n",
       "    </tr>\n",
       "    <tr>\n",
       "      <th>SAMN41088853</th>\n",
       "      <td>NaN</td>\n",
       "    </tr>\n",
       "    <tr>\n",
       "      <th>SAMN41088852</th>\n",
       "      <td>NaN</td>\n",
       "    </tr>\n",
       "    <tr>\n",
       "      <th>SAMN41088851</th>\n",
       "      <td>NaN</td>\n",
       "    </tr>\n",
       "  </tbody>\n",
       "</table>\n",
       "<p>10570 rows × 1 columns</p>\n",
       "</div>"
      ],
      "text/plain": [
       "               con\n",
       "biosample         \n",
       "SAMN31521702  True\n",
       "SAMN31521701  True\n",
       "SAMN31521700  True\n",
       "SAMN31521699  True\n",
       "SAMN31521748  True\n",
       "...            ...\n",
       "SAMN41088855   NaN\n",
       "SAMN41088854   NaN\n",
       "SAMN41088853   NaN\n",
       "SAMN41088852   NaN\n",
       "SAMN41088851   NaN\n",
       "\n",
       "[10570 rows x 1 columns]"
      ]
     },
     "execution_count": 17,
     "metadata": {},
     "output_type": "execute_result"
    }
   ],
   "source": [
    "stress_maxi = stress_maxi.drop_duplicates(keep='first', subset='biosample').set_index('biosample')\n",
    "stress_maxi"
   ]
  },
  {
   "cell_type": "code",
   "execution_count": 21,
   "metadata": {},
   "outputs": [
    {
     "data": {
      "text/html": [
       "<div>\n",
       "<style scoped>\n",
       "    .dataframe tbody tr th:only-of-type {\n",
       "        vertical-align: middle;\n",
       "    }\n",
       "\n",
       "    .dataframe tbody tr th {\n",
       "        vertical-align: top;\n",
       "    }\n",
       "\n",
       "    .dataframe thead th {\n",
       "        text-align: right;\n",
       "    }\n",
       "</style>\n",
       "<table border=\"1\" class=\"dataframe\">\n",
       "  <thead>\n",
       "    <tr style=\"text-align: right;\">\n",
       "      <th></th>\n",
       "      <th>guido</th>\n",
       "      <th>maxi</th>\n",
       "    </tr>\n",
       "    <tr>\n",
       "      <th>biosample</th>\n",
       "      <th></th>\n",
       "      <th></th>\n",
       "    </tr>\n",
       "  </thead>\n",
       "  <tbody>\n",
       "    <tr>\n",
       "      <th>SAMD00025071</th>\n",
       "      <td>NaN</td>\n",
       "      <td>NaN</td>\n",
       "    </tr>\n",
       "    <tr>\n",
       "      <th>SAMD00025072</th>\n",
       "      <td>NaN</td>\n",
       "      <td>NaN</td>\n",
       "    </tr>\n",
       "    <tr>\n",
       "      <th>SAMD00025073</th>\n",
       "      <td>NaN</td>\n",
       "      <td>NaN</td>\n",
       "    </tr>\n",
       "    <tr>\n",
       "      <th>SAMD00025074</th>\n",
       "      <td>NaN</td>\n",
       "      <td>NaN</td>\n",
       "    </tr>\n",
       "    <tr>\n",
       "      <th>SAMD00025075</th>\n",
       "      <td>NaN</td>\n",
       "      <td>NaN</td>\n",
       "    </tr>\n",
       "    <tr>\n",
       "      <th>...</th>\n",
       "      <td>...</td>\n",
       "      <td>...</td>\n",
       "    </tr>\n",
       "    <tr>\n",
       "      <th>SAMN41829221</th>\n",
       "      <td>NaN</td>\n",
       "      <td>NaN</td>\n",
       "    </tr>\n",
       "    <tr>\n",
       "      <th>SAMN41829222</th>\n",
       "      <td>NaN</td>\n",
       "      <td>NaN</td>\n",
       "    </tr>\n",
       "    <tr>\n",
       "      <th>SAMN41829223</th>\n",
       "      <td>NaN</td>\n",
       "      <td>NaN</td>\n",
       "    </tr>\n",
       "    <tr>\n",
       "      <th>SAMN41829224</th>\n",
       "      <td>NaN</td>\n",
       "      <td>NaN</td>\n",
       "    </tr>\n",
       "    <tr>\n",
       "      <th>SAMN41829225</th>\n",
       "      <td>NaN</td>\n",
       "      <td>NaN</td>\n",
       "    </tr>\n",
       "  </tbody>\n",
       "</table>\n",
       "<p>11791 rows × 2 columns</p>\n",
       "</div>"
      ],
      "text/plain": [
       "             guido maxi\n",
       "biosample              \n",
       "SAMD00025071   NaN  NaN\n",
       "SAMD00025072   NaN  NaN\n",
       "SAMD00025073   NaN  NaN\n",
       "SAMD00025074   NaN  NaN\n",
       "SAMD00025075   NaN  NaN\n",
       "...            ...  ...\n",
       "SAMN41829221   NaN  NaN\n",
       "SAMN41829222   NaN  NaN\n",
       "SAMN41829223   NaN  NaN\n",
       "SAMN41829224   NaN  NaN\n",
       "SAMN41829225   NaN  NaN\n",
       "\n",
       "[11791 rows x 2 columns]"
      ]
     },
     "execution_count": 21,
     "metadata": {},
     "output_type": "execute_result"
    }
   ],
   "source": [
    "stress_gm = stress_guido.join(stress_maxi, rsuffix='_maxi', how='outer')[['con', 'con_maxi']]\n",
    "stress_gm.columns = ['guido', 'maxi']\n",
    "stress_gm"
   ]
  },
  {
   "cell_type": "code",
   "execution_count": 22,
   "metadata": {},
   "outputs": [
    {
     "data": {
      "text/plain": [
       "0"
      ]
     },
     "execution_count": 22,
     "metadata": {},
     "output_type": "execute_result"
    }
   ],
   "source": [
    "stress_gm.index.duplicated().sum()"
   ]
  },
  {
   "cell_type": "code",
   "execution_count": 23,
   "metadata": {},
   "outputs": [],
   "source": [
    "stress_gm.to_csv('stress_control.csv')"
   ]
  }
 ],
 "metadata": {
  "kernelspec": {
   "display_name": "Python 3",
   "language": "python",
   "name": "python3"
  },
  "language_info": {
   "codemirror_mode": {
    "name": "ipython",
    "version": 3
   },
   "file_extension": ".py",
   "mimetype": "text/x-python",
   "name": "python",
   "nbconvert_exporter": "python",
   "pygments_lexer": "ipython3",
   "version": "3.10.12"
  }
 },
 "nbformat": 4,
 "nbformat_minor": 2
}
