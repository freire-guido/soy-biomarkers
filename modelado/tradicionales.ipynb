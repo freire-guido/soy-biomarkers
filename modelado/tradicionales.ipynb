{
 "cells": [
  {
   "cell_type": "code",
   "execution_count": 24,
   "metadata": {},
   "outputs": [],
   "source": [
    "from pydeseq2.ds import DeseqStats, DefaultInference, DeseqDataSet\n",
    "import matplotlib.pyplot as plt\n",
    "import pandas as pd"
   ]
  },
  {
   "cell_type": "code",
   "execution_count": 14,
   "metadata": {},
   "outputs": [],
   "source": [
    "venancio = pd.read_parquet('../expresion/venancio_bias_corrected.parquet')\n",
    "condicion = pd.read_parquet('condicion.parquet')"
   ]
  },
  {
   "cell_type": "code",
   "execution_count": 15,
   "metadata": {},
   "outputs": [],
   "source": [
    "venancio, condicion = venancio.align(condicion, join='inner', axis=0)"
   ]
  },
  {
   "cell_type": "markdown",
   "metadata": {},
   "source": [
    "# DeSeq2"
   ]
  },
  {
   "cell_type": "code",
   "execution_count": 16,
   "metadata": {},
   "outputs": [],
   "source": [
    "inference = DefaultInference(n_cpus=8)\n",
    "dds = DeseqDataSet(\n",
    "    counts=venancio,\n",
    "    metadata=condicion,\n",
    "    design_factors=\"estres\",  # compare samples based on the \"condition\"\n",
    "    refit_cooks=True,\n",
    "    inference=inference,\n",
    ")"
   ]
  },
  {
   "cell_type": "code",
   "execution_count": 19,
   "metadata": {},
   "outputs": [
    {
     "name": "stderr",
     "output_type": "stream",
     "text": [
      "Fitting size factors...\n",
      "... done in 0.93 seconds.\n",
      "\n",
      "Fitting dispersions...\n",
      "... done in 26.47 seconds.\n",
      "\n",
      "Fitting dispersion trend curve...\n",
      "... done in 1.24 seconds.\n",
      "\n",
      "Fitting MAP dispersions...\n",
      "... done in 24.99 seconds.\n",
      "\n",
      "Fitting LFCs...\n",
      "... done in 25.41 seconds.\n",
      "\n",
      "Calculating cook's distance...\n",
      "... done in 5.83 seconds.\n",
      "\n",
      "Replacing 4436 outlier genes.\n",
      "\n",
      "Fitting dispersions...\n",
      "... done in 2.21 seconds.\n",
      "\n",
      "Fitting MAP dispersions...\n",
      "... done in 2.14 seconds.\n",
      "\n",
      "Fitting LFCs...\n",
      "... done in 3.79 seconds.\n",
      "\n"
     ]
    }
   ],
   "source": [
    "dds.deseq2()"
   ]
  },
  {
   "cell_type": "code",
   "execution_count": 22,
   "metadata": {},
   "outputs": [
    {
     "name": "stderr",
     "output_type": "stream",
     "text": [
      "Running Wald tests...\n",
      "... done in 3.88 seconds.\n",
      "\n"
     ]
    },
    {
     "name": "stdout",
     "output_type": "stream",
     "text": [
      "Log2 fold change & Wald test p-value: estres drought vs control\n",
      "                  baseMean  log2FoldChange     lfcSE      stat    pvalue  \\\n",
      "Gene                                                                       \n",
      "Glyma.01G000100  47.122299        0.868318  0.228511  3.799901  0.000145   \n",
      "Glyma.01G000137   4.911446        1.078823  0.436053  2.474064  0.013359   \n",
      "Glyma.01G000174  16.122059       -0.377114  0.294743 -1.279467  0.200733   \n",
      "Glyma.01G000211  13.412127       -0.562483  0.347466 -1.618811  0.105488   \n",
      "Glyma.01G000248  12.398668       -0.338326  0.300695 -1.125145  0.260528   \n",
      "...                    ...             ...       ...       ...       ...   \n",
      "Glyma.U045402     6.647993       -1.712393  0.511089 -3.350475  0.000807   \n",
      "Glyma.U045502     0.753277        0.963896  0.940909  1.024431  0.305632   \n",
      "Glyma.U045602     6.140348       -1.598178  0.677194 -2.360000  0.018275   \n",
      "Glyma.U045702     1.918289       -0.504207  0.688878 -0.731925  0.464214   \n",
      "Glyma.U045802     6.386803       -0.171553  0.499229 -0.343635  0.731121   \n",
      "\n",
      "                     padj  \n",
      "Gene                       \n",
      "Glyma.01G000100  0.001528  \n",
      "Glyma.01G000137  0.050888  \n",
      "Glyma.01G000174  0.365224  \n",
      "Glyma.01G000211  0.233055  \n",
      "Glyma.01G000248  0.435817  \n",
      "...                   ...  \n",
      "Glyma.U045402    0.005961  \n",
      "Glyma.U045502    0.484962  \n",
      "Glyma.U045602    0.064261  \n",
      "Glyma.U045702    0.637837  \n",
      "Glyma.U045802    0.841171  \n",
      "\n",
      "[52837 rows x 6 columns]\n"
     ]
    }
   ],
   "source": [
    "soy_stat = DeseqStats(dds, alpha=0.05, cooks_filter=True, independent_filter=True)\n",
    "soy_stat.summary()"
   ]
  },
  {
   "cell_type": "code",
   "execution_count": 26,
   "metadata": {},
   "outputs": [
    {
     "data": {
      "text/plain": [
       "<matplotlib.collections.PathCollection at 0x700d4019d960>"
      ]
     },
     "execution_count": 26,
     "metadata": {},
     "output_type": "execute_result"
    },
    {
     "data": {
      "image/png": "[encoded data removed]",
      "text/plain": [
       "<Figure size 640x480 with 1 Axes>"
      ]
     },
     "metadata": {},
     "output_type": "display_data"
    }
   ],
   "source": [
    "plt.scatter(soy_stat.results_df['log2FoldChange'], soy_stat.results_df['pvalue'])"
   ]
  }
 ],
 "metadata": {
  "kernelspec": {
   "display_name": "Python 3",
   "language": "python",
   "name": "python3"
  },
  "language_info": {
   "codemirror_mode": {
    "name": "ipython",
    "version": 3
   },
   "file_extension": ".py",
   "mimetype": "text/x-python",
   "name": "python",
   "nbconvert_exporter": "python",
   "pygments_lexer": "ipython3",
   "version": "3.10.12"
  }
 },
 "nbformat": 4,
 "nbformat_minor": 2
}
